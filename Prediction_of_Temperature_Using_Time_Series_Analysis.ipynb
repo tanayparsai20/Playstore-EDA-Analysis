{
  "cells": [
    {
      "cell_type": "markdown",
      "metadata": {
        "id": "view-in-github",
        "colab_type": "text"
      },
      "source": [
        "<a href=\"https://colab.research.google.com/github/tanayparsai20/Playstore-EDA-Analysis/blob/main/Prediction_of_Temperature_Using_Time_Series_Analysis.ipynb\" target=\"_parent\"><img src=\"https://colab.research.google.com/assets/colab-badge.svg\" alt=\"Open In Colab\"/></a>"
      ]
    },
    {
      "cell_type": "code",
      "source": [
        "import pandas as pd\n",
        "import numpy as np\n",
        "import seaborn as sns\n",
        "import matplotlib.pyplot as plt"
      ],
      "metadata": {
        "id": "Mm3YHfqG46ZQ"
      },
      "execution_count": null,
      "outputs": []
    },
    {
      "cell_type": "code",
      "source": [
        "from google.colab import drive\n",
        "drive.mount('/content/drive')"
      ],
      "metadata": {
        "colab": {
          "base_uri": "https://localhost:8080/"
        },
        "id": "0YKCsoZG8I9w",
        "outputId": "287bb858-9d36-49d1-a301-04b13d73c473"
      },
      "execution_count": null,
      "outputs": [
        {
          "output_type": "stream",
          "name": "stdout",
          "text": [
            "Mounted at /content/drive\n"
          ]
        }
      ]
    },
    {
      "cell_type": "code",
      "source": [
        "global_temp=pd.read_csv('/content/drive/MyDrive/New folder/GlobalTemperatures.csv')"
      ],
      "metadata": {
        "id": "veaL_jXF_xvh",
        "colab": {
          "base_uri": "https://localhost:8080/",
          "height": 311
        },
        "outputId": "4d65d0b6-19d6-4a17-e32e-76414a2bda1a"
      },
      "execution_count": null,
      "outputs": [
        {
          "output_type": "error",
          "ename": "FileNotFoundError",
          "evalue": "ignored",
          "traceback": [
            "\u001b[0;31m---------------------------------------------------------------------------\u001b[0m",
            "\u001b[0;31mFileNotFoundError\u001b[0m                         Traceback (most recent call last)",
            "\u001b[0;32m<ipython-input-4-242c5e097c45>\u001b[0m in \u001b[0;36m<cell line: 1>\u001b[0;34m()\u001b[0m\n\u001b[0;32m----> 1\u001b[0;31m \u001b[0mglobal_temp\u001b[0m\u001b[0;34m=\u001b[0m\u001b[0mpd\u001b[0m\u001b[0;34m.\u001b[0m\u001b[0mread_csv\u001b[0m\u001b[0;34m(\u001b[0m\u001b[0;34m'/content/drive/MyDrive/New folder/GlobalTemperatures.csv'\u001b[0m\u001b[0;34m)\u001b[0m\u001b[0;34m\u001b[0m\u001b[0;34m\u001b[0m\u001b[0m\n\u001b[0m",
            "\u001b[0;32m/usr/local/lib/python3.10/dist-packages/pandas/util/_decorators.py\u001b[0m in \u001b[0;36mwrapper\u001b[0;34m(*args, **kwargs)\u001b[0m\n\u001b[1;32m    209\u001b[0m                 \u001b[0;32melse\u001b[0m\u001b[0;34m:\u001b[0m\u001b[0;34m\u001b[0m\u001b[0;34m\u001b[0m\u001b[0m\n\u001b[1;32m    210\u001b[0m                     \u001b[0mkwargs\u001b[0m\u001b[0;34m[\u001b[0m\u001b[0mnew_arg_name\u001b[0m\u001b[0;34m]\u001b[0m \u001b[0;34m=\u001b[0m \u001b[0mnew_arg_value\u001b[0m\u001b[0;34m\u001b[0m\u001b[0;34m\u001b[0m\u001b[0m\n\u001b[0;32m--> 211\u001b[0;31m             \u001b[0;32mreturn\u001b[0m \u001b[0mfunc\u001b[0m\u001b[0;34m(\u001b[0m\u001b[0;34m*\u001b[0m\u001b[0margs\u001b[0m\u001b[0;34m,\u001b[0m \u001b[0;34m**\u001b[0m\u001b[0mkwargs\u001b[0m\u001b[0;34m)\u001b[0m\u001b[0;34m\u001b[0m\u001b[0;34m\u001b[0m\u001b[0m\n\u001b[0m\u001b[1;32m    212\u001b[0m \u001b[0;34m\u001b[0m\u001b[0m\n\u001b[1;32m    213\u001b[0m         \u001b[0;32mreturn\u001b[0m \u001b[0mcast\u001b[0m\u001b[0;34m(\u001b[0m\u001b[0mF\u001b[0m\u001b[0;34m,\u001b[0m \u001b[0mwrapper\u001b[0m\u001b[0;34m)\u001b[0m\u001b[0;34m\u001b[0m\u001b[0;34m\u001b[0m\u001b[0m\n",
            "\u001b[0;32m/usr/local/lib/python3.10/dist-packages/pandas/util/_decorators.py\u001b[0m in \u001b[0;36mwrapper\u001b[0;34m(*args, **kwargs)\u001b[0m\n\u001b[1;32m    329\u001b[0m                     \u001b[0mstacklevel\u001b[0m\u001b[0;34m=\u001b[0m\u001b[0mfind_stack_level\u001b[0m\u001b[0;34m(\u001b[0m\u001b[0;34m)\u001b[0m\u001b[0;34m,\u001b[0m\u001b[0;34m\u001b[0m\u001b[0;34m\u001b[0m\u001b[0m\n\u001b[1;32m    330\u001b[0m                 )\n\u001b[0;32m--> 331\u001b[0;31m             \u001b[0;32mreturn\u001b[0m \u001b[0mfunc\u001b[0m\u001b[0;34m(\u001b[0m\u001b[0;34m*\u001b[0m\u001b[0margs\u001b[0m\u001b[0;34m,\u001b[0m \u001b[0;34m**\u001b[0m\u001b[0mkwargs\u001b[0m\u001b[0;34m)\u001b[0m\u001b[0;34m\u001b[0m\u001b[0;34m\u001b[0m\u001b[0m\n\u001b[0m\u001b[1;32m    332\u001b[0m \u001b[0;34m\u001b[0m\u001b[0m\n\u001b[1;32m    333\u001b[0m         \u001b[0;31m# error: \"Callable[[VarArg(Any), KwArg(Any)], Any]\" has no\u001b[0m\u001b[0;34m\u001b[0m\u001b[0;34m\u001b[0m\u001b[0m\n",
            "\u001b[0;32m/usr/local/lib/python3.10/dist-packages/pandas/io/parsers/readers.py\u001b[0m in \u001b[0;36mread_csv\u001b[0;34m(filepath_or_buffer, sep, delimiter, header, names, index_col, usecols, squeeze, prefix, mangle_dupe_cols, dtype, engine, converters, true_values, false_values, skipinitialspace, skiprows, skipfooter, nrows, na_values, keep_default_na, na_filter, verbose, skip_blank_lines, parse_dates, infer_datetime_format, keep_date_col, date_parser, dayfirst, cache_dates, iterator, chunksize, compression, thousands, decimal, lineterminator, quotechar, quoting, doublequote, escapechar, comment, encoding, encoding_errors, dialect, error_bad_lines, warn_bad_lines, on_bad_lines, delim_whitespace, low_memory, memory_map, float_precision, storage_options)\u001b[0m\n\u001b[1;32m    948\u001b[0m     \u001b[0mkwds\u001b[0m\u001b[0;34m.\u001b[0m\u001b[0mupdate\u001b[0m\u001b[0;34m(\u001b[0m\u001b[0mkwds_defaults\u001b[0m\u001b[0;34m)\u001b[0m\u001b[0;34m\u001b[0m\u001b[0;34m\u001b[0m\u001b[0m\n\u001b[1;32m    949\u001b[0m \u001b[0;34m\u001b[0m\u001b[0m\n\u001b[0;32m--> 950\u001b[0;31m     \u001b[0;32mreturn\u001b[0m \u001b[0m_read\u001b[0m\u001b[0;34m(\u001b[0m\u001b[0mfilepath_or_buffer\u001b[0m\u001b[0;34m,\u001b[0m \u001b[0mkwds\u001b[0m\u001b[0;34m)\u001b[0m\u001b[0;34m\u001b[0m\u001b[0;34m\u001b[0m\u001b[0m\n\u001b[0m\u001b[1;32m    951\u001b[0m \u001b[0;34m\u001b[0m\u001b[0m\n\u001b[1;32m    952\u001b[0m \u001b[0;34m\u001b[0m\u001b[0m\n",
            "\u001b[0;32m/usr/local/lib/python3.10/dist-packages/pandas/io/parsers/readers.py\u001b[0m in \u001b[0;36m_read\u001b[0;34m(filepath_or_buffer, kwds)\u001b[0m\n\u001b[1;32m    603\u001b[0m \u001b[0;34m\u001b[0m\u001b[0m\n\u001b[1;32m    604\u001b[0m     \u001b[0;31m# Create the parser.\u001b[0m\u001b[0;34m\u001b[0m\u001b[0;34m\u001b[0m\u001b[0m\n\u001b[0;32m--> 605\u001b[0;31m     \u001b[0mparser\u001b[0m \u001b[0;34m=\u001b[0m \u001b[0mTextFileReader\u001b[0m\u001b[0;34m(\u001b[0m\u001b[0mfilepath_or_buffer\u001b[0m\u001b[0;34m,\u001b[0m \u001b[0;34m**\u001b[0m\u001b[0mkwds\u001b[0m\u001b[0;34m)\u001b[0m\u001b[0;34m\u001b[0m\u001b[0;34m\u001b[0m\u001b[0m\n\u001b[0m\u001b[1;32m    606\u001b[0m \u001b[0;34m\u001b[0m\u001b[0m\n\u001b[1;32m    607\u001b[0m     \u001b[0;32mif\u001b[0m \u001b[0mchunksize\u001b[0m \u001b[0;32mor\u001b[0m \u001b[0miterator\u001b[0m\u001b[0;34m:\u001b[0m\u001b[0;34m\u001b[0m\u001b[0;34m\u001b[0m\u001b[0m\n",
            "\u001b[0;32m/usr/local/lib/python3.10/dist-packages/pandas/io/parsers/readers.py\u001b[0m in \u001b[0;36m__init__\u001b[0;34m(self, f, engine, **kwds)\u001b[0m\n\u001b[1;32m   1440\u001b[0m \u001b[0;34m\u001b[0m\u001b[0m\n\u001b[1;32m   1441\u001b[0m         \u001b[0mself\u001b[0m\u001b[0;34m.\u001b[0m\u001b[0mhandles\u001b[0m\u001b[0;34m:\u001b[0m \u001b[0mIOHandles\u001b[0m \u001b[0;34m|\u001b[0m \u001b[0;32mNone\u001b[0m \u001b[0;34m=\u001b[0m \u001b[0;32mNone\u001b[0m\u001b[0;34m\u001b[0m\u001b[0;34m\u001b[0m\u001b[0m\n\u001b[0;32m-> 1442\u001b[0;31m         \u001b[0mself\u001b[0m\u001b[0;34m.\u001b[0m\u001b[0m_engine\u001b[0m \u001b[0;34m=\u001b[0m \u001b[0mself\u001b[0m\u001b[0;34m.\u001b[0m\u001b[0m_make_engine\u001b[0m\u001b[0;34m(\u001b[0m\u001b[0mf\u001b[0m\u001b[0;34m,\u001b[0m \u001b[0mself\u001b[0m\u001b[0;34m.\u001b[0m\u001b[0mengine\u001b[0m\u001b[0;34m)\u001b[0m\u001b[0;34m\u001b[0m\u001b[0;34m\u001b[0m\u001b[0m\n\u001b[0m\u001b[1;32m   1443\u001b[0m \u001b[0;34m\u001b[0m\u001b[0m\n\u001b[1;32m   1444\u001b[0m     \u001b[0;32mdef\u001b[0m \u001b[0mclose\u001b[0m\u001b[0;34m(\u001b[0m\u001b[0mself\u001b[0m\u001b[0;34m)\u001b[0m \u001b[0;34m->\u001b[0m \u001b[0;32mNone\u001b[0m\u001b[0;34m:\u001b[0m\u001b[0;34m\u001b[0m\u001b[0;34m\u001b[0m\u001b[0m\n",
            "\u001b[0;32m/usr/local/lib/python3.10/dist-packages/pandas/io/parsers/readers.py\u001b[0m in \u001b[0;36m_make_engine\u001b[0;34m(self, f, engine)\u001b[0m\n\u001b[1;32m   1733\u001b[0m                 \u001b[0;32mif\u001b[0m \u001b[0;34m\"b\"\u001b[0m \u001b[0;32mnot\u001b[0m \u001b[0;32min\u001b[0m \u001b[0mmode\u001b[0m\u001b[0;34m:\u001b[0m\u001b[0;34m\u001b[0m\u001b[0;34m\u001b[0m\u001b[0m\n\u001b[1;32m   1734\u001b[0m                     \u001b[0mmode\u001b[0m \u001b[0;34m+=\u001b[0m \u001b[0;34m\"b\"\u001b[0m\u001b[0;34m\u001b[0m\u001b[0;34m\u001b[0m\u001b[0m\n\u001b[0;32m-> 1735\u001b[0;31m             self.handles = get_handle(\n\u001b[0m\u001b[1;32m   1736\u001b[0m                 \u001b[0mf\u001b[0m\u001b[0;34m,\u001b[0m\u001b[0;34m\u001b[0m\u001b[0;34m\u001b[0m\u001b[0m\n\u001b[1;32m   1737\u001b[0m                 \u001b[0mmode\u001b[0m\u001b[0;34m,\u001b[0m\u001b[0;34m\u001b[0m\u001b[0;34m\u001b[0m\u001b[0m\n",
            "\u001b[0;32m/usr/local/lib/python3.10/dist-packages/pandas/io/common.py\u001b[0m in \u001b[0;36mget_handle\u001b[0;34m(path_or_buf, mode, encoding, compression, memory_map, is_text, errors, storage_options)\u001b[0m\n\u001b[1;32m    854\u001b[0m         \u001b[0;32mif\u001b[0m \u001b[0mioargs\u001b[0m\u001b[0;34m.\u001b[0m\u001b[0mencoding\u001b[0m \u001b[0;32mand\u001b[0m \u001b[0;34m\"b\"\u001b[0m \u001b[0;32mnot\u001b[0m \u001b[0;32min\u001b[0m \u001b[0mioargs\u001b[0m\u001b[0;34m.\u001b[0m\u001b[0mmode\u001b[0m\u001b[0;34m:\u001b[0m\u001b[0;34m\u001b[0m\u001b[0;34m\u001b[0m\u001b[0m\n\u001b[1;32m    855\u001b[0m             \u001b[0;31m# Encoding\u001b[0m\u001b[0;34m\u001b[0m\u001b[0;34m\u001b[0m\u001b[0m\n\u001b[0;32m--> 856\u001b[0;31m             handle = open(\n\u001b[0m\u001b[1;32m    857\u001b[0m                 \u001b[0mhandle\u001b[0m\u001b[0;34m,\u001b[0m\u001b[0;34m\u001b[0m\u001b[0;34m\u001b[0m\u001b[0m\n\u001b[1;32m    858\u001b[0m                 \u001b[0mioargs\u001b[0m\u001b[0;34m.\u001b[0m\u001b[0mmode\u001b[0m\u001b[0;34m,\u001b[0m\u001b[0;34m\u001b[0m\u001b[0;34m\u001b[0m\u001b[0m\n",
            "\u001b[0;31mFileNotFoundError\u001b[0m: [Errno 2] No such file or directory: '/content/drive/MyDrive/New folder/GlobalTemperatures.csv'"
          ]
        }
      ]
    },
    {
      "cell_type": "code",
      "source": [
        "global_temp.head()"
      ],
      "metadata": {
        "id": "lfpscL12ALjd"
      },
      "execution_count": null,
      "outputs": []
    },
    {
      "cell_type": "markdown",
      "source": [],
      "metadata": {
        "id": "3_TTBLohAgyq"
      }
    },
    {
      "cell_type": "code",
      "source": [
        "global_temp.columns.values"
      ],
      "metadata": {
        "id": "gDpoIolwAdve"
      },
      "execution_count": null,
      "outputs": []
    },
    {
      "cell_type": "code",
      "source": [
        "global_temp.drop(columns=['LandMaxTemperature',\n",
        "       'LandMaxTemperatureUncertainty', 'LandMinTemperature',\n",
        "       'LandMinTemperatureUncertainty', 'LandAndOceanAverageTemperature',\n",
        "       'LandAndOceanAverageTemperatureUncertainty'],inplace=True)"
      ],
      "metadata": {
        "id": "dzbHIWdsCNzZ"
      },
      "execution_count": null,
      "outputs": []
    },
    {
      "cell_type": "code",
      "source": [
        "global_temp.describe()"
      ],
      "metadata": {
        "id": "itYAPT6KDT_O"
      },
      "execution_count": null,
      "outputs": []
    },
    {
      "cell_type": "code",
      "source": [
        "global_temp.isnull().sum()"
      ],
      "metadata": {
        "id": "bH0aNb9EDqjc"
      },
      "execution_count": null,
      "outputs": []
    },
    {
      "cell_type": "code",
      "source": [
        "global_temp.dropna(inplace=True)"
      ],
      "metadata": {
        "id": "nohXiKvWFtRc"
      },
      "execution_count": null,
      "outputs": []
    },
    {
      "cell_type": "code",
      "source": [
        "global_temp.shape"
      ],
      "metadata": {
        "id": "aSB3OUURGc1X"
      },
      "execution_count": null,
      "outputs": []
    },
    {
      "cell_type": "code",
      "source": [
        "global_temp['dt']=pd.to_datetime(global_temp['dt'])"
      ],
      "metadata": {
        "id": "dsDxkztcGxpN"
      },
      "execution_count": null,
      "outputs": []
    },
    {
      "cell_type": "code",
      "source": [
        "global_temp.dtypes"
      ],
      "metadata": {
        "id": "pVBONsfvHegT"
      },
      "execution_count": null,
      "outputs": []
    },
    {
      "cell_type": "markdown",
      "source": [
        "# 2. Does Global Warming Exist"
      ],
      "metadata": {
        "id": "pJytc_wRICge"
      }
    },
    {
      "cell_type": "code",
      "source": [
        "global_temp['years']=global_temp['dt'].dt.year"
      ],
      "metadata": {
        "id": "rTCytualIRMl"
      },
      "execution_count": null,
      "outputs": []
    },
    {
      "cell_type": "code",
      "source": [
        "global_temp.head()"
      ],
      "metadata": {
        "id": "U3Jb4-61Itiu"
      },
      "execution_count": null,
      "outputs": []
    },
    {
      "cell_type": "code",
      "source": [
        "data=global_temp.groupby('years').agg({'LandAverageTemperature':'mean','LandAverageTemperatureUncertainty':'mean'}).reset_index()"
      ],
      "metadata": {
        "id": "I1CTrL9eI048"
      },
      "execution_count": null,
      "outputs": []
    },
    {
      "cell_type": "code",
      "source": [
        "data"
      ],
      "metadata": {
        "id": "fQBV0R6NJekN"
      },
      "execution_count": null,
      "outputs": []
    },
    {
      "cell_type": "markdown",
      "source": [
        "Maximum Uncertainty will be Avg temperature  +   deviation(Uncertainty)\n",
        "\n",
        "whereas minimum Uncertainty will be Avg temp -   deviation(Uncertainty)\n",
        "\n",
        "and this deviation is exactly your Uncertainty..."
      ],
      "metadata": {
        "id": "6JKGt2aSPjmv"
      }
    },
    {
      "cell_type": "code",
      "source": [
        "data['Uncertainty_top']=data['LandAverageTemperature'] + data['LandAverageTemperatureUncertainty']\n",
        "data['Uncertainty_bottom']=data['LandAverageTemperature'] - data['LandAverageTemperatureUncertainty']"
      ],
      "metadata": {
        "id": "7hUHmCOmPmRq"
      },
      "execution_count": null,
      "outputs": []
    },
    {
      "cell_type": "code",
      "source": [
        "data.head()"
      ],
      "metadata": {
        "id": "L4T3Ad8rPwDU"
      },
      "execution_count": null,
      "outputs": []
    },
    {
      "cell_type": "code",
      "source": [
        "data.plot(x='years',y=['LandAverageTemperature', 'LandAverageTemperatureUncertainty',\n",
        "       'Uncertainty_top', 'Uncertainty_bottom'],figsize=(16,10))"
      ],
      "metadata": {
        "id": "UcMExy5oQSrX"
      },
      "execution_count": null,
      "outputs": []
    },
    {
      "cell_type": "markdown",
      "source": [
        "# 3. Analyse average temperature in each season"
      ],
      "metadata": {
        "id": "3j7x6UgBRPQX"
      }
    },
    {
      "cell_type": "code",
      "source": [
        "## extract 'month' from 'dt' feature.\n",
        "global_temp['month']=global_temp['dt'].dt.month"
      ],
      "metadata": {
        "id": "rrIY0v7kSloz"
      },
      "execution_count": null,
      "outputs": []
    },
    {
      "cell_type": "code",
      "source": [
        "global_temp.head()\n"
      ],
      "metadata": {
        "id": "BHCYpT3VRpso"
      },
      "execution_count": null,
      "outputs": []
    },
    {
      "cell_type": "code",
      "source": [
        "## lets define a function to extract season from 'month'\n",
        "\n",
        "def get_season(month):\n",
        "\n",
        "    if month>=3 and month<=5:\n",
        "        return 'spring'\n",
        "\n",
        "    elif month>=6 and month<=8:\n",
        "        return 'summer'\n",
        "\n",
        "    elif month>=9 and month<=11:\n",
        "        return 'autumn'\n",
        "\n",
        "    else:\n",
        "        return 'winter'"
      ],
      "metadata": {
        "id": "Fd_qRGCvRyeb"
      },
      "execution_count": null,
      "outputs": []
    },
    {
      "cell_type": "code",
      "source": [
        "global_temp['season']=global_temp['month'].apply(get_season)"
      ],
      "metadata": {
        "id": "cuSVRK2gUSjB"
      },
      "execution_count": null,
      "outputs": []
    },
    {
      "cell_type": "code",
      "source": [
        "global_temp.columns"
      ],
      "metadata": {
        "id": "uHNpYo0MUw3o"
      },
      "execution_count": null,
      "outputs": []
    },
    {
      "cell_type": "code",
      "source": [
        "years=global_temp['years'].unique()"
      ],
      "metadata": {
        "id": "izgY40PrVTGZ"
      },
      "execution_count": null,
      "outputs": []
    },
    {
      "cell_type": "code",
      "source": [
        "global_temp['season'].unique()"
      ],
      "metadata": {
        "id": "VUpwIN7DU5T-"
      },
      "execution_count": null,
      "outputs": []
    },
    {
      "cell_type": "code",
      "source": [
        "## lets define 4 blank lists to store all the \"season temp\"  of \"various years\".\n",
        "\n",
        "spring_temps=[]\n",
        "summer_temps=[]\n",
        "autumn_temps=[]\n",
        "winter_temps=[]\n",
        "\n",
        "for year in years:\n",
        "    current_yr=global_temp[global_temp['years']==year]\n",
        "\n",
        "    spring_temps.append(current_yr[current_yr['season']=='spring']['LandAverageTemperature'].mean())\n",
        "    summer_temps.append(current_yr[current_yr['season']=='summer']['LandAverageTemperature'].mean())\n",
        "    autumn_temps.append(current_yr[current_yr['season']=='autumn']['LandAverageTemperature'].mean())\n",
        "    winter_temps.append(current_yr[current_yr['season']=='winter']['LandAverageTemperature'].mean())"
      ],
      "metadata": {
        "id": "1bUjOuO7U_69"
      },
      "execution_count": null,
      "outputs": []
    },
    {
      "cell_type": "code",
      "source": [
        "### lets make a blank dataframe ..\n",
        "\n",
        "season=pd.DataFrame()"
      ],
      "metadata": {
        "id": "YyLvhGOCWA31"
      },
      "execution_count": null,
      "outputs": []
    },
    {
      "cell_type": "code",
      "source": [
        "## assigning features in dataframe..\n",
        "\n",
        "season['years']=years\n",
        "season['spring_temps']=spring_temps\n",
        "season['summer_temps']=summer_temps\n",
        "season['autumn_temps']=autumn_temps\n",
        "season['winter_temps']=winter_temps"
      ],
      "metadata": {
        "id": "Dh0rgiIbWDlB"
      },
      "execution_count": null,
      "outputs": []
    },
    {
      "cell_type": "code",
      "source": [
        "season"
      ],
      "metadata": {
        "id": "51Q72lghWJYw"
      },
      "execution_count": null,
      "outputs": []
    },
    {
      "cell_type": "code",
      "source": [
        "season.columns"
      ],
      "metadata": {
        "id": "PV0p1XaMZYkP"
      },
      "execution_count": null,
      "outputs": []
    },
    {
      "cell_type": "code",
      "source": [
        "season[['spring_temps', 'summer_temps', 'autumn_temps',\n",
        "       'winter_temps']]"
      ],
      "metadata": {
        "id": "x9OIHBcRZhSZ"
      },
      "execution_count": null,
      "outputs": []
    },
    {
      "cell_type": "code",
      "source": [
        "plt.figure(figsize=(16,10))\n",
        "plt.plot(season['years'],season[['spring_temps', 'summer_temps', 'autumn_temps',\n",
        "       'winter_temps']])\n",
        "\n",
        "plt.legend(['spring_temps', 'summer_temps', 'autumn_temps',\n",
        "       'winter_temps'])"
      ],
      "metadata": {
        "id": "S_ezSy7UNjTF"
      },
      "execution_count": null,
      "outputs": []
    },
    {
      "cell_type": "code",
      "source": [
        "Is it getting warmer? Yes, it is."
      ],
      "metadata": {
        "id": "Y0A2zUhtOlIk"
      },
      "execution_count": null,
      "outputs": []
    },
    {
      "cell_type": "markdown",
      "source": [
        "# 4. How to prepare data for time series Modelling\n"
      ],
      "metadata": {
        "id": "se-G2lBEOxSt"
      }
    },
    {
      "cell_type": "code",
      "source": [
        "### lets read 'GlobalLandTemperaturesByCity.csv'\n",
        "\n",
        "cities=pd.read_csv('/content/drive/MyDrive/New folder/GlobalLandTemperaturesByCity.csv')"
      ],
      "metadata": {
        "id": "swUZI0ZtPJ6i"
      },
      "execution_count": null,
      "outputs": []
    },
    {
      "cell_type": "code",
      "source": [
        "cities.head()\n"
      ],
      "metadata": {
        "id": "85ebu65xOzUL"
      },
      "execution_count": null,
      "outputs": []
    },
    {
      "cell_type": "code",
      "source": [
        "cities.shape"
      ],
      "metadata": {
        "id": "SJl7Cg2FRTBk"
      },
      "execution_count": null,
      "outputs": []
    },
    {
      "cell_type": "code",
      "source": [
        "## finding unique countries in 'country' feature..\n",
        "\n",
        "cities['Country'].unique()"
      ],
      "metadata": {
        "id": "bl1T7UuvRdtz"
      },
      "execution_count": null,
      "outputs": []
    },
    {
      "cell_type": "code",
      "source": [
        "## creating separate datafrme for 'India' only..\n",
        "\n",
        "India=cities[cities['Country']=='India']"
      ],
      "metadata": {
        "id": "wjwliy5xTZqX"
      },
      "execution_count": null,
      "outputs": []
    },
    {
      "cell_type": "markdown",
      "source": [],
      "metadata": {
        "id": "dQrzQAr12kwE"
      }
    },
    {
      "cell_type": "code",
      "source": [
        "India.columns"
      ],
      "metadata": {
        "id": "2Qoz1QtwTxY0"
      },
      "execution_count": null,
      "outputs": []
    },
    {
      "cell_type": "code",
      "source": [
        "## unique cities in 'India'..\n",
        "\n",
        "India['City'].unique()"
      ],
      "metadata": {
        "id": "v84oR6hYTzDc"
      },
      "execution_count": null,
      "outputs": []
    },
    {
      "cell_type": "code",
      "source": [
        "## considering data of ['Delhi','Bombay','Madras''Visakhapatnam','Jammu','Hyderabad','Imphal'] in my India dataframe..\n",
        "\n",
        "India_cities=['Delhi','Bombay','Madras''Visakhapatnam','Jammu','Hyderabad','Imphal']"
      ],
      "metadata": {
        "id": "hRoeDYvHUISm"
      },
      "execution_count": null,
      "outputs": []
    },
    {
      "cell_type": "code",
      "source": [
        "data2=India[India['City'].isin(India_cities)]"
      ],
      "metadata": {
        "id": "ogYiQbk7XAhr"
      },
      "execution_count": null,
      "outputs": []
    },
    {
      "cell_type": "code",
      "source": [
        "data2.shape"
      ],
      "metadata": {
        "id": "LjqZAqzUXHYP"
      },
      "execution_count": null,
      "outputs": []
    },
    {
      "cell_type": "code",
      "source": [
        "data2.head()"
      ],
      "metadata": {
        "id": "ZSUCWniKXiH7"
      },
      "execution_count": null,
      "outputs": []
    },
    {
      "cell_type": "code",
      "source": [
        "data2=data2[['dt','AverageTemperature']]\n",
        "\n"
      ],
      "metadata": {
        "id": "2DuODBzmYtx-"
      },
      "execution_count": null,
      "outputs": []
    },
    {
      "cell_type": "code",
      "source": [],
      "metadata": {
        "id": "kK_4n9Ze9hqF"
      },
      "execution_count": null,
      "outputs": []
    },
    {
      "cell_type": "code",
      "source": [
        "data2.columns=['Date','Temp']"
      ],
      "metadata": {
        "id": "zywS8MLoa5e8"
      },
      "execution_count": null,
      "outputs": []
    },
    {
      "cell_type": "code",
      "source": [
        "data2"
      ],
      "metadata": {
        "id": "TY4qVwTSOi63"
      },
      "execution_count": null,
      "outputs": []
    },
    {
      "cell_type": "code",
      "source": [
        "data2.dtypes"
      ],
      "metadata": {
        "id": "laHJbIu3a6oJ"
      },
      "execution_count": null,
      "outputs": []
    },
    {
      "cell_type": "code",
      "source": [
        "## converting data-type of 'Date' feature into date-time ..\n",
        "\n",
        "data2['Date']=pd.to_datetime(data2['Date'])"
      ],
      "metadata": {
        "id": "Warn6E7CbJyk"
      },
      "execution_count": null,
      "outputs": []
    },
    {
      "cell_type": "code",
      "source": [
        "data2.dtypes"
      ],
      "metadata": {
        "id": "iPcTXKwNbR1M"
      },
      "execution_count": null,
      "outputs": []
    },
    {
      "cell_type": "code",
      "source": [
        "## total missing values in each of the feature..\n",
        "\n",
        "data2.isnull().sum()"
      ],
      "metadata": {
        "id": "ytu_JFaSbYWA"
      },
      "execution_count": null,
      "outputs": []
    },
    {
      "cell_type": "code",
      "source": [
        "## dropping the missing values..\n",
        "\n",
        "data2.dropna(inplace=True)"
      ],
      "metadata": {
        "id": "vKGkw7I5ba7x"
      },
      "execution_count": null,
      "outputs": []
    },
    {
      "cell_type": "code",
      "source": [
        "data2.head()"
      ],
      "metadata": {
        "id": "Rsm3s8r_bj2Y"
      },
      "execution_count": null,
      "outputs": []
    },
    {
      "cell_type": "code",
      "source": [
        "data2.shape"
      ],
      "metadata": {
        "id": "ojrvebBwbnI2"
      },
      "execution_count": null,
      "outputs": []
    },
    {
      "cell_type": "code",
      "source": [
        "data2.set_index('Date',inplace=True)"
      ],
      "metadata": {
        "id": "XbXx1V_nbraK"
      },
      "execution_count": null,
      "outputs": []
    },
    {
      "cell_type": "code",
      "source": [
        "data2.head()"
      ],
      "metadata": {
        "id": "t43il179cCAE"
      },
      "execution_count": null,
      "outputs": []
    },
    {
      "cell_type": "markdown",
      "source": [
        "# 5.How to find weather data has seasonality factor or not"
      ],
      "metadata": {
        "id": "Rti-PRj4de7o"
      }
    },
    {
      "cell_type": "code",
      "source": [
        "we will try to convert our seasonal data into stationary bcz Time SEries algos works phenomenal with stationary data..\n",
        "\n",
        "lets understand what is seasoanlity ,stationary & couple of Time series Terms..\n",
        "\n",
        "seasonality ->> When mean & variance is not constant throughout the data ,\n",
        "                ie data has a trend here..\n",
        "\n",
        "stationary data ->>  so data that has no trend ie that has constant\n",
        "                   mean & std dev throughout data..\n",
        "\n",
        "if not stationary then we have to make it stationary using various manipulations..\n",
        "\n",
        "\n",
        "Seasonality is opposite of stationary ,ie\n",
        "    A time series with a clear seasonal component is referred to as non-stationary...\n",
        "\n",
        "    ie the goal is we have to convert seasonal data into stationary data..\n",
        "\n",
        "\n",
        "\n",
        "    a)Visualisation approach\n",
        "\n",
        "(seasonality is all about suppose in each yr in christmas sales goes up) and then down ,\n",
        "   ie this is a cycle that repeats over time, such as monthly or yearly.\n",
        "\n",
        "   There are many types of seasonality;\n",
        "   for example:\n",
        "\n",
        "Time of Day.\n",
        "Daily.\n",
        "Weekly.\n",
        "Monthly.\n",
        "Yearly.\n",
        "Once seasonality is identified, it can be removed\n",
        "\n",
        "The model of seasonality can be removed from the time series.\n",
        "This process is called Seasonal Adjustment, or Deseasonalizing.\n",
        "A time series where the seasonal component has been removed is called seasonal stationary.\n",
        "A time series with a clear seasonal component is referred to as non-stationary."
      ],
      "metadata": {
        "id": "_hI9XLxHdqzo"
      },
      "execution_count": null,
      "outputs": []
    },
    {
      "cell_type": "code",
      "source": [
        "###  i'm going to create a pivot table to plot the monthly temperatures through the years\n",
        "## so I need 'year' & 'month' feature..\n",
        "\n",
        "data2['year']=data2.index.year"
      ],
      "metadata": {
        "id": "3fcMilFEcD2l"
      },
      "execution_count": null,
      "outputs": []
    },
    {
      "cell_type": "code",
      "source": [
        "data2['month']=data2.index.month"
      ],
      "metadata": {
        "id": "9tN_DdgceO9-"
      },
      "execution_count": null,
      "outputs": []
    },
    {
      "cell_type": "code",
      "source": [
        "data2.head()"
      ],
      "metadata": {
        "id": "AnhSyT39eRlw"
      },
      "execution_count": null,
      "outputs": []
    },
    {
      "cell_type": "code",
      "source": [
        "## creating a pivot table :\n",
        "\n",
        "pivot=data2.pivot_table(values='Temp',index='month',columns='year')"
      ],
      "metadata": {
        "id": "F333AzxWeXlV"
      },
      "execution_count": null,
      "outputs": []
    },
    {
      "cell_type": "code",
      "source": [
        "pivot"
      ],
      "metadata": {
        "id": "WAdsAtYCeshP"
      },
      "execution_count": null,
      "outputs": []
    },
    {
      "cell_type": "code",
      "source": [
        "## if we want to plot with respect to time or index of dataframe ,  we can use pivot.plot() function of pandas ..\n",
        "\n",
        "\n",
        "pivot.plot(figsize=(20,8))\n",
        "plt.legend().remove()\n",
        "plt.xlabel('Months')\n",
        "plt.ylabel('Temperatures')"
      ],
      "metadata": {
        "id": "wf6ddaDre8lX"
      },
      "execution_count": null,
      "outputs": []
    },
    {
      "cell_type": "code",
      "source": [
        "# looking this graph,we can say this data is seasonal\n",
        "#     The series clearly has some seasonality, the higher temperatures\n",
        "#     are around b/w April & May and the lower are between December & Feb\n",
        "#     so thats basically a observation that u can drawn and represent to ur client.."
      ],
      "metadata": {
        "id": "szdZL9u5fSAG"
      },
      "execution_count": null,
      "outputs": []
    },
    {
      "cell_type": "markdown",
      "source": [],
      "metadata": {
        "id": "me7gEBfIBbFu"
      }
    },
    {
      "cell_type": "code",
      "source": [],
      "metadata": {
        "id": "zKVEHTvRfZa7"
      },
      "execution_count": null,
      "outputs": []
    },
    {
      "cell_type": "code",
      "source": [],
      "metadata": {
        "id": "wgj0ocJjfZe_"
      },
      "execution_count": null,
      "outputs": []
    },
    {
      "cell_type": "code",
      "source": [],
      "metadata": {
        "id": "P8yUBiyvjb-1"
      },
      "execution_count": null,
      "outputs": []
    },
    {
      "cell_type": "markdown",
      "source": [
        "# 6. How to find weather data is stationary or not\n"
      ],
      "metadata": {
        "id": "FZsRplt9jcRU"
      }
    },
    {
      "cell_type": "markdown",
      "source": [
        "ways to find\n",
        "\n",
        "a.. using data visualisation (lineplot to find out\n",
        "                           whats a trend of data)\n",
        "\n",
        "b.. Evaluating the descriptive statistics ( ie compute\n",
        "             mean & variance of various chunks of data )\n",
        "\n",
        " c.. using statistical Tests (AD-Fuller , KPSS Test )"
      ],
      "metadata": {
        "id": "thUYXIuAkACO"
      }
    },
    {
      "cell_type": "code",
      "source": [
        "### checking whether data is stationary or not..\n",
        "\n",
        "data2['Temp'].plot(figsize=(20,12))"
      ],
      "metadata": {
        "id": "37jqdtePjn3M"
      },
      "execution_count": null,
      "outputs": []
    },
    {
      "cell_type": "code",
      "source": [
        "'''\n",
        "It seems that data is seasonal in nature.. The spread of the data indicates that there is a significant variation in the data.\n",
        "To flatten the growing variance, we need to transform the data.\n",
        "\n",
        "A recurring pattern with a defined and predictable regularity dependent on the time of year, week, or day\n",
        "is referred to as seasonality.\n",
        "\n"
      ],
      "metadata": {
        "id": "szdwDN0bnh8b"
      },
      "execution_count": null,
      "outputs": []
    },
    {
      "cell_type": "code",
      "source": [
        "### Testing For Stationarity using Augmented Dickey-Fuller test..\n",
        "\n",
        "from statsmodels.tsa.stattools import adfuller"
      ],
      "metadata": {
        "id": "0QgsamMjp8pA"
      },
      "execution_count": null,
      "outputs": []
    },
    {
      "cell_type": "code",
      "source": [
        "adfuller(data2['Temp'])"
      ],
      "metadata": {
        "id": "qB94Ixprp-la"
      },
      "execution_count": null,
      "outputs": []
    },
    {
      "cell_type": "code",
      "source": [
        "adfuller gives 5 values ['ADF Test Statistic','p-value','#Lags Used','Number of Observations Used','critical values']\n",
        "\n",
        "most imp is p-value\n",
        "p-value concept is almost similar to Hypothesis testing,\n",
        "Hypothesis Testing have 2 Hypothesis(Alternate & Null Hypothesis)\n",
        "\n",
        "Null hypo says Data is not Stationary\n",
        "whereas Alternate hypo says data is stationary\n",
        "\n",
        "lags are those which are our previous Data\n"
      ],
      "metadata": {
        "id": "davL8hFqsT-a"
      },
      "execution_count": null,
      "outputs": []
    },
    {
      "cell_type": "code",
      "source": [
        "#if Pvalue<0.05 ,we reject Null hypo ie alternate hypo is\n",
        "# true,ie data is stationery"
      ],
      "metadata": {
        "id": "2YIhgnl_sWdg"
      },
      "execution_count": null,
      "outputs": []
    },
    {
      "cell_type": "code",
      "source": [
        "here p value is greater than 0.05 hence we accept null hypothesis that data is not stationary"
      ],
      "metadata": {
        "id": "2ZpYhulRs3CA"
      },
      "execution_count": null,
      "outputs": []
    },
    {
      "cell_type": "markdown",
      "source": [
        "# 7. How to make your data stationary"
      ],
      "metadata": {
        "id": "50o9oD0Eylfc"
      }
    },
    {
      "cell_type": "code",
      "source": [
        "data2['Temp'].head(15)"
      ],
      "metadata": {
        "id": "81SBuVasytBI"
      },
      "execution_count": null,
      "outputs": []
    },
    {
      "cell_type": "code",
      "source": [
        "data2['first_temp_diff']=data2['Temp'] - data2['Temp'].shift(12)"
      ],
      "metadata": {
        "id": "MyUEtQgmzzm4"
      },
      "execution_count": null,
      "outputs": []
    },
    {
      "cell_type": "code",
      "source": [
        "'''\n",
        "why taken shift(12) , bcz basically year has 12 month cycle , ie in order to remove seasonal component..\n",
        "\n",
        "In previous diagram of pivot table , we have figured out that we have yearly seasonality.. ,\n",
        "so lets use shift(12) to remove seasonality\n",
        "\n",
        "'''"
      ],
      "metadata": {
        "id": "-1PlaFe3z6Gx"
      },
      "execution_count": null,
      "outputs": []
    },
    {
      "cell_type": "code",
      "source": [
        "data2.head(15)"
      ],
      "metadata": {
        "id": "BMiR93Dvz7U6"
      },
      "execution_count": null,
      "outputs": []
    },
    {
      "cell_type": "code",
      "source": [
        "### Testing For Stationarity using Augmented Dickey-Fuller test..\n",
        "\n",
        "from statsmodels.tsa.stattools import adfuller"
      ],
      "metadata": {
        "id": "2r2LXXBN0MTJ"
      },
      "execution_count": null,
      "outputs": []
    },
    {
      "cell_type": "code",
      "source": [
        "## Again perform Aug.dickey fuller test on df['first_diff_temp']\n",
        "\n",
        "adfuller(data2['first_temp_diff'].dropna())"
      ],
      "metadata": {
        "id": "K5WeRzhx25aq"
      },
      "execution_count": null,
      "outputs": []
    },
    {
      "cell_type": "code",
      "source": [
        "''\n",
        "now our p-value is less than 0.05 which basically says we are rejecting null hypo and accepting alternate hypo\n",
        "ie data is stationery\n",
        "\n",
        "Note : if p-value is almost 0, then we can say , we have a wonderful stationary graph\n",
        "\n",
        "'''"
      ],
      "metadata": {
        "id": "lwea3zb73VEE"
      },
      "execution_count": null,
      "outputs": []
    },
    {
      "cell_type": "code",
      "source": [
        "data2['first_temp_diff'].plot(figsize=(20,6))"
      ],
      "metadata": {
        "id": "zi8kZjHZ3WrS"
      },
      "execution_count": null,
      "outputs": []
    },
    {
      "cell_type": "markdown",
      "source": [
        "#8. Lets Build Time series Model"
      ],
      "metadata": {
        "id": "ACTXxxNVCGHo"
      }
    },
    {
      "cell_type": "code",
      "source": [
        "# Lets Build a basic moving Avg model"
      ],
      "metadata": {
        "id": "Kysm5fIRCZSR"
      },
      "execution_count": null,
      "outputs": []
    },
    {
      "cell_type": "code",
      "source": [
        "df=data2[['first_temp_diff']]"
      ],
      "metadata": {
        "id": "GWeuoZReCen4"
      },
      "execution_count": null,
      "outputs": []
    },
    {
      "cell_type": "code",
      "source": [
        "df.dropna(inplace=True)"
      ],
      "metadata": {
        "id": "VAlcM3SICqdI"
      },
      "execution_count": null,
      "outputs": []
    },
    {
      "cell_type": "code",
      "source": [
        "df.head(10)"
      ],
      "metadata": {
        "id": "mFz946iqCwjn"
      },
      "execution_count": null,
      "outputs": []
    },
    {
      "cell_type": "code",
      "source": [
        "### Smoothening your series using moving average\n",
        "## Rolling is just like a window that you are going to consider or I can say its a window that we have considered for Moving average,\n",
        "## lets say 5 is the window size or 5 is the business period\n",
        "\n",
        "\n",
        "df['Predictions']=df['first_temp_diff'].rolling(window=5).mean()"
      ],
      "metadata": {
        "id": "OGf5afTYCzAR"
      },
      "execution_count": null,
      "outputs": []
    },
    {
      "cell_type": "code",
      "source": [
        "df.head()"
      ],
      "metadata": {
        "id": "SFHYcgdAEVVm"
      },
      "execution_count": null,
      "outputs": []
    },
    {
      "cell_type": "code",
      "source": [
        "df.dropna(inplace=True)"
      ],
      "metadata": {
        "id": "q1ng4vN6EdOs"
      },
      "execution_count": null,
      "outputs": []
    },
    {
      "cell_type": "code",
      "source": [],
      "metadata": {
        "id": "EZZvnu5U04-H"
      },
      "execution_count": null,
      "outputs": []
    },
    {
      "cell_type": "code",
      "source": [
        "df.head()"
      ],
      "metadata": {
        "id": "fC9blKL4EgPJ"
      },
      "execution_count": null,
      "outputs": []
    },
    {
      "cell_type": "code",
      "source": [
        "df.columns=['actual_temp','forecast_temp']"
      ],
      "metadata": {
        "id": "1SxGHPICEn3k"
      },
      "execution_count": null,
      "outputs": []
    },
    {
      "cell_type": "code",
      "source": [
        "df.head()"
      ],
      "metadata": {
        "id": "i46UxVYEEpX1"
      },
      "execution_count": null,
      "outputs": []
    },
    {
      "cell_type": "code",
      "source": [
        "### check accuracy of your model using RMSE..\n",
        "\n",
        "from sklearn.metrics import mean_squared_error"
      ],
      "metadata": {
        "id": "4enBaSy-Etm_"
      },
      "execution_count": null,
      "outputs": []
    },
    {
      "cell_type": "code",
      "source": [
        "np.sqrt(mean_squared_error(df['actual_temp'],df['forecast_temp']))\n",
        "\n",
        "## why np.sqrt, bcz mean_squared_error gives square of error and then by calling np.sqrt we get actual error"
      ],
      "metadata": {
        "id": "FeUBPsmXE6Es"
      },
      "execution_count": null,
      "outputs": []
    },
    {
      "cell_type": "code",
      "source": [
        "plt.plot(df[\"actual_temp\"])\n",
        "plt.plot(df[\"forecast_temp\"])"
      ],
      "metadata": {
        "id": "CGRMQBJx6oI5"
      },
      "execution_count": null,
      "outputs": []
    },
    {
      "cell_type": "markdown",
      "source": [
        "# 9. Lets Build ARIMA Model"
      ],
      "metadata": {
        "id": "lAlB5TU4F_k5"
      }
    },
    {
      "cell_type": "code",
      "source": [
        "from statsmodels.graphics.tsaplots import plot_acf,plot_pacf\n",
        "from statsmodels.graphics.api import qqplot"
      ],
      "metadata": {
        "id": "gF625vrJGK9g"
      },
      "execution_count": null,
      "outputs": []
    },
    {
      "cell_type": "code",
      "source": [
        "df.head()"
      ],
      "metadata": {
        "id": "wuywSLaf5qWV"
      },
      "execution_count": null,
      "outputs": []
    },
    {
      "cell_type": "code",
      "source": [
        "plot_acf(df['actual_temp'])\n",
        "plt.show()"
      ],
      "metadata": {
        "id": "FK340z6UBUlZ"
      },
      "execution_count": null,
      "outputs": []
    },
    {
      "cell_type": "code",
      "source": [
        "plot_pacf(df['actual_temp'])\n",
        "plt.show()"
      ],
      "metadata": {
        "id": "CYpu-T1TFJSU"
      },
      "execution_count": null,
      "outputs": []
    },
    {
      "cell_type": "code",
      "source": [
        "df.head(3)"
      ],
      "metadata": {
        "id": "uHdPTeKEFT0t"
      },
      "execution_count": null,
      "outputs": []
    },
    {
      "cell_type": "code",
      "source": [
        "df=df[['actual_temp']]"
      ],
      "metadata": {
        "id": "f16CqU8AFYzo"
      },
      "execution_count": null,
      "outputs": []
    },
    {
      "cell_type": "code",
      "source": [
        "df.head()"
      ],
      "metadata": {
        "id": "68ha_mgMFezX"
      },
      "execution_count": null,
      "outputs": []
    },
    {
      "cell_type": "code",
      "source": [
        "df.shape"
      ],
      "metadata": {
        "id": "9synBYkRFrVk"
      },
      "execution_count": null,
      "outputs": []
    },
    {
      "cell_type": "code",
      "source": [
        "training_data=df[0:10000]\n",
        "testing_data=df[10000:]\n",
        "\n",
        "### create test data that is basically unseen to our model or which is basically is used for evalaution"
      ],
      "metadata": {
        "id": "jJVW5RFwCDJe"
      },
      "execution_count": null,
      "outputs": []
    },
    {
      "cell_type": "code",
      "source": [
        "from statsmodels.tsa.arima_model import ARIMA\n"
      ],
      "metadata": {
        "id": "j4Ac7a4pONWJ"
      },
      "execution_count": null,
      "outputs": []
    },
    {
      "cell_type": "code",
      "source": [
        "### arima= ARIMA(training_data,order=(p,d,q))\n",
        "\n",
        "arima=ARIMA(training_data,order=(2,1,2))"
      ],
      "metadata": {
        "id": "AXYKhQcOBjd7"
      },
      "execution_count": null,
      "outputs": []
    },
    {
      "cell_type": "code",
      "source": [
        "model=arima.fit()"
      ],
      "metadata": {
        "id": "ZUPnTDOKBxRm"
      },
      "execution_count": null,
      "outputs": []
    },
    {
      "cell_type": "code",
      "source": [
        "model.summary()"
      ],
      "metadata": {
        "id": "Af33yYCDwdUN"
      },
      "execution_count": null,
      "outputs": []
    },
    {
      "cell_type": "code",
      "source": [
        "## doing predictions..\n",
        "\n",
        "pred=model.forecast(steps=len(testing_data))[0]"
      ],
      "metadata": {
        "id": "K-K8GYVNB40I"
      },
      "execution_count": null,
      "outputs": []
    },
    {
      "cell_type": "code",
      "source": [
        "pred"
      ],
      "metadata": {
        "id": "Q75c0Y6dCRGn"
      },
      "execution_count": null,
      "outputs": []
    },
    {
      "cell_type": "code",
      "source": [
        "len(pred)"
      ],
      "metadata": {
        "id": "-ty4rrWbCZN8"
      },
      "execution_count": null,
      "outputs": []
    },
    {
      "cell_type": "code",
      "source": [
        "len(testing_data)"
      ],
      "metadata": {
        "id": "HyUoyzesCdef"
      },
      "execution_count": null,
      "outputs": []
    },
    {
      "cell_type": "code",
      "source": [
        "training_data.plot(legend=True, label='Train', figsize=(20,6))\n",
        "testing_data.plot(legend=True, label='Train')\n",
        "pred.plot(legend=True, label='predictionARIMA')"
      ],
      "metadata": {
        "id": "ZCeoFDcqsKOi"
      },
      "execution_count": null,
      "outputs": []
    },
    {
      "cell_type": "code",
      "source": [],
      "metadata": {
        "id": "1MI0WonyySsg"
      },
      "execution_count": null,
      "outputs": []
    },
    {
      "cell_type": "code",
      "source": [
        " arima=ARIMA(testing_data,order=(2,1,2))\n",
        "model=arima.fit()\n",
        "pred=model.forecast(steps=len(testing_data))[0]\n",
        "np.sqrt(mean_squared_error(testing_data,pred))\n",
        "model.summary()\n"
      ],
      "metadata": {
        "id": "1Bs8HMEJ5D_U"
      },
      "execution_count": null,
      "outputs": []
    },
    {
      "cell_type": "code",
      "source": [
        "Error=df[\"actual_temp\"]-pred"
      ],
      "metadata": {
        "id": "HUBQQWX45ECw"
      },
      "execution_count": null,
      "outputs": []
    },
    {
      "cell_type": "code",
      "source": [],
      "metadata": {
        "id": "RZG18OVPS_wa"
      },
      "execution_count": null,
      "outputs": []
    }
  ],
  "metadata": {
    "colab": {
      "provenance": [],
      "include_colab_link": true
    },
    "kernelspec": {
      "display_name": "Python 3",
      "name": "python3"
    }
  },
  "nbformat": 4,
  "nbformat_minor": 0
}